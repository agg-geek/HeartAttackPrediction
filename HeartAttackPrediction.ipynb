{
 "cells": [
  {
   "cell_type": "markdown",
   "metadata": {},
   "source": [
    "# Heart Attack Prediction"
   ]
  },
  {
   "cell_type": "markdown",
   "metadata": {},
   "source": [
    "This Jupyter Notebook is created for the **Biotech Final Year Project** of **MNNIT Allahabad, Dept of Biotechnology**.   \n",
    "The notebook contains code to predict risk of heart attack using various Machine Learning techniques based on health and heart-based parameters.\n",
    "\n",
    "This notebook and all other relevant files are available on [Github](https://github.com/agg-geek/HeartAttackPrediction).\n",
    "\n"
   ]
  },
  {
   "cell_type": "markdown",
   "metadata": {},
   "source": [
    "### Project Supervisor:\n",
    "Dr. Ashutosh Mani,  \n",
    "Associate Professor, Department of Biotechnology\n",
    "\n",
    "### Project team members:\n",
    "- Abhinav Aggarwal, 20200003\n",
    "- Ratna Rathaur, 20200041\n",
    "- Shivam Pandey, 20200049"
   ]
  },
  {
   "cell_type": "markdown",
   "metadata": {},
   "source": [
    "### Import packages"
   ]
  },
  {
   "cell_type": "code",
   "execution_count": null,
   "metadata": {},
   "outputs": [],
   "source": [
    "import numpy as np\n",
    "import pandas as pd"
   ]
  },
  {
   "cell_type": "markdown",
   "metadata": {},
   "source": [
    "### Import dataset"
   ]
  },
  {
   "cell_type": "code",
   "execution_count": null,
   "metadata": {},
   "outputs": [],
   "source": [
    "column_names = ['age', 'sex', 'cp', 'trtbps', 'chol', 'fbs', 'restecg', 'maxhr', 'exng', 'oldpeak', 'slp', 'caa', 'thall', 'output']\n",
    "heart = pd.read_csv('dataset/cleveland.data', names=column_names, sep=',', na_values='?')\n",
    "heart.sample(5)"
   ]
  },
  {
   "cell_type": "markdown",
   "metadata": {},
   "source": [
    "### About the dataset\n",
    "- `age`: Age of the patient (years)\n",
    "- `sex`: Sex of the patient (1: Male or 0: Female)\n",
    "- `cp`:  Chest pain type (0: Typical Angina, 1: Atypical Angina, 2: Non-Anginal Pain, 3: Asymptomatic)\n",
    "- `trtbps`:  Resting blood pressure (mm Hg)\n",
    "- `chol`:  Cholesterol level (mg/dL)\n",
    "- `fbs`: Fasting blood sugar (1: if fbs > 120 mg/dl, 0: otherwise)\n",
    "- `restecg`: Resting ECG results\n",
    "    - 0: Normal\n",
    "    - 1: having ST-T wave abnormality (T wave inversions and/or ST elevation or depression of > 0.05 mV)\n",
    "    - 2: showing probable or definite left ventricular hypertrophy by Estes' criteria\n",
    "- `maxhr`: Maximum heart rate achieved (bpm)  \n",
    "- `exng`: Exercise Induced Angina (1: Yes, 0: No)\n",
    "- `oldpeak`: ST depression induced by exercise relative to rest\n",
    "- `slp`: Slope of the peak exercise ST segment (0: upsloping, 1: flat, 2: downsloping)\n",
    "- `caa`: Number of major vessels colored by flourosopy (0 - 4)\n",
    "- `thall`: Thalassemia blood disorder (3 = normal; 6 = fixed defect; 7 = reversable defect)\n",
    "- `output`: Target variable (1 = heart attack, 0 = no heart attack)\n"
   ]
  }
 ],
 "metadata": {
  "kernelspec": {
   "display_name": "test",
   "language": "python",
   "name": "python3"
  },
  "language_info": {
   "codemirror_mode": {
    "name": "ipython",
    "version": 3
   },
   "file_extension": ".py",
   "mimetype": "text/x-python",
   "name": "python",
   "nbconvert_exporter": "python",
   "pygments_lexer": "ipython3",
   "version": "3.10.13"
  }
 },
 "nbformat": 4,
 "nbformat_minor": 2
}
