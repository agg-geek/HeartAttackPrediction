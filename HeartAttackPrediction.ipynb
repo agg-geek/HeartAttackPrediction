{
 "cells": [
  {
   "cell_type": "markdown",
   "metadata": {},
   "source": [
    "# Heart Attack Prediction"
   ]
  },
  {
   "cell_type": "markdown",
   "metadata": {},
   "source": [
    "This Jupyter Notebook is created for the **Biotech Final Year Project** of **MNNIT Allahabad, Dept of Biotechnology**.   \n",
    "The notebook contains code to predict risk of heart attack using various Machine Learning techniques based on health and heart-based parameters.\n",
    "\n",
    "This notebook and all other relevant files are available on [Github](https://github.com/agg-geek/HeartAttackPrediction).\n",
    "\n"
   ]
  },
  {
   "cell_type": "markdown",
   "metadata": {},
   "source": [
    "### Project Supervisor:\n",
    "Dr. Ashutosh Mani,  \n",
    "Associate Professor, Department of Biotechnology\n",
    "\n",
    "### Project team members:\n",
    "- Abhinav Aggarwal, 20200003\n",
    "- Ratna Rathaur, 20200041\n",
    "- Shivam Pandey, 20200049"
   ]
  },
  {
   "cell_type": "markdown",
   "metadata": {},
   "source": [
    "### Import packages"
   ]
  },
  {
   "cell_type": "code",
   "execution_count": null,
   "metadata": {},
   "outputs": [],
   "source": [
    "import numpy as np\n",
    "import pandas as pd\n",
    "import matplotlib\n",
    "from matplotlib import pyplot as plt\n",
    "import seaborn as sns\n",
    "matplotlib.style.use('ggplot')\n",
    "# matplotlib.style.use('fivethirtyeight')\n",
    "# matplotlib.style.use('seaborn-v0_8')\n",
    "\n",
    "# # For Chi square test in feature selection\n",
    "# from sklearn.feature_selection import SelectKBest\n",
    "# from sklearn.feature_selection import chi2\n",
    "\n",
    "# # For ANOVA test in feature selection\n",
    "# from sklearn.feature_selection import f_classif\n",
    "\n",
    "# For Data scaling\n",
    "from sklearn.preprocessing import MinMaxScaler\n",
    "\n",
    "from sklearn.model_selection import train_test_split\n",
    "from sklearn.metrics import confusion_matrix\n",
    "from sklearn.metrics import classification_report\n",
    "from sklearn.linear_model import LogisticRegression"
   ]
  },
  {
   "cell_type": "markdown",
   "metadata": {},
   "source": [
    "### Import dataset"
   ]
  },
  {
   "cell_type": "code",
   "execution_count": null,
   "metadata": {},
   "outputs": [],
   "source": [
    "column_names = ['age', 'sex', 'cp', 'bp', 'chol', 'fbs', 'ecg', 'maxhr', 'angina', 'oldpeak', 'stslope', 'vessel', 'thal', 'attack']\n",
    "heart = pd.read_csv('dataset/cleveland.data', names=column_names, sep=',', na_values='?')\n",
    "heart.sample(5)"
   ]
  },
  {
   "cell_type": "markdown",
   "metadata": {},
   "source": [
    "### About the dataset\n"
   ]
  },
  {
   "cell_type": "markdown",
   "metadata": {},
   "source": [
    "- `age`: Age of the patient (years)\n",
    "- `sex`: Sex of the patient (1: Male or 0: Female)\n",
    "- `cp`:  Chest pain type (0: Typical Angina, 1: Atypical Angina, 2: Non-Anginal Pain, 3: Asymptomatic)\n",
    "- `bp`:  Resting blood pressure (mm Hg)\n",
    "- `chol`:  Cholesterol level (mg/dL)\n",
    "- `fbs`: Fasting blood sugar (1: if fbs > 120 mg/dl, 0: otherwise)\n",
    "- `ecg`: Resting ECG results\n",
    "    - 0: Normal\n",
    "    - 1: having ST-T wave abnormality (T wave inversions and/or ST elevation or depression of > 0.05 mV)\n",
    "    - 2: showing probable or definite left ventricular hypertrophy by Estes' criteria\n",
    "- `maxhr`: Maximum heart rate achieved (bpm)  \n",
    "- `angina`: Exercise Induced Angina (1: Yes, 0: No)\n",
    "- `oldpeak`: ST depression induced by exercise relative to rest\n",
    "- `stslope`: Slope of the peak exercise ST segment (0: upsloping, 1: flat, 2: downsloping)\n",
    "- `vessel`: Number of major vessels colored by flourosopy (0 - 4)\n",
    "- `thal`: Thalassemia blood disorder (3 = normal; 6 = fixed defect; 7 = reversable defect)\n",
    "- `attack`: Target variable (0 = no heart attack, 1 - 4: heart attack)"
   ]
  },
  {
   "cell_type": "markdown",
   "metadata": {},
   "source": [
    "## Initial Inference"
   ]
  },
  {
   "cell_type": "code",
   "execution_count": null,
   "metadata": {},
   "outputs": [],
   "source": [
    "heart.info()"
   ]
  },
  {
   "cell_type": "markdown",
   "metadata": {},
   "source": [
    "**Observations:**\n",
    "- There are 303 instances.\n",
    "- There are 13 features and 1 target variable.\n",
    "- All features have datatype `float64`. Many of these features can be converted to `int64` to save space."
   ]
  },
  {
   "cell_type": "code",
   "execution_count": null,
   "metadata": {},
   "outputs": [],
   "source": [
    "heart.isnull().sum()"
   ]
  },
  {
   "cell_type": "markdown",
   "metadata": {},
   "source": [
    "**Observations:**  \n",
    "There are 4 missing values in `vessel` and 2 missing values in `thal`.  \n",
    "To handle these missing values, we will need to either remove the instances containing the missing values or fill them.  \n",
    "We do not have any data to fill the missing values with. We could either fill them with the mean value of their corresponding columns or just remove them.  \n",
    "Since only 6 instances will be removed if we remove the missing values, we will simply remove the missing values."
   ]
  },
  {
   "cell_type": "code",
   "execution_count": null,
   "metadata": {},
   "outputs": [],
   "source": [
    "heart.dropna(inplace=True)"
   ]
  },
  {
   "cell_type": "code",
   "execution_count": null,
   "metadata": {},
   "outputs": [],
   "source": [
    "heart.duplicated().sum()"
   ]
  },
  {
   "cell_type": "markdown",
   "metadata": {},
   "source": [
    "**Observation:**  \n",
    "There are no duplicated rows.\n"
   ]
  },
  {
   "cell_type": "code",
   "execution_count": null,
   "metadata": {},
   "outputs": [],
   "source": [
    "# heart['attack']\n",
    "heart['attack'].value_counts()"
   ]
  },
  {
   "cell_type": "markdown",
   "metadata": {},
   "source": [
    "**Observations:**  \n",
    "As mentioned in the dataset description, the target column `attack` is a categorical column with 0 denoting no heart attack and other values denoting heart attack.  \n",
    "We will transform the column such that 0 indicates no heart attack and 1 indicates heart attack."
   ]
  },
  {
   "cell_type": "code",
   "execution_count": null,
   "metadata": {},
   "outputs": [],
   "source": [
    "heart['attack'] = heart['attack'].apply(lambda x: 0 if x == 0 else 1)\n",
    "# heart['attack']\n",
    "heart['attack'].value_counts()"
   ]
  },
  {
   "cell_type": "code",
   "execution_count": null,
   "metadata": {},
   "outputs": [],
   "source": [
    "heart.describe()"
   ]
  },
  {
   "cell_type": "markdown",
   "metadata": {},
   "source": [
    "## Exploratory Data Analysis"
   ]
  },
  {
   "cell_type": "markdown",
   "metadata": {},
   "source": [
    "#### Utility functions"
   ]
  },
  {
   "cell_type": "code",
   "execution_count": null,
   "metadata": {},
   "outputs": [],
   "source": [
    "def check_balance(df, target_column, risk_value, not_risk_value):\n",
    "    risk = len(df[df[target_column] == risk_value])\n",
    "    no_risk = len(df[df[target_column] == not_risk_value])\n",
    "    total = risk + no_risk\n",
    "    # print(risk, no_risk, total)\n",
    "    print(f\"Percentage Risk: {risk / total * 100}%\")\n",
    "    print(f\"Percentage Not Risk: {no_risk / total * 100}%\")"
   ]
  },
  {
   "cell_type": "markdown",
   "metadata": {},
   "source": [
    "#### Create copy of dataset for EDA"
   ]
  },
  {
   "cell_type": "code",
   "execution_count": null,
   "metadata": {},
   "outputs": [],
   "source": [
    "heart_copy = heart.copy()\n",
    "heart_copy['attack'] = heart_copy['attack'].apply(lambda x: 'Attack' if x == 1 else 'No attack')\n",
    "heart_copy"
   ]
  },
  {
   "cell_type": "markdown",
   "metadata": {},
   "source": [
    "#### Create lists for features"
   ]
  },
  {
   "cell_type": "code",
   "execution_count": null,
   "metadata": {},
   "outputs": [],
   "source": [
    "categorical_features = []\n",
    "numerical_features = []\n",
    "\n",
    "for col in list(heart_copy.columns)[:-1]:\n",
    "    if heart_copy[col].nunique() > 5:\n",
    "        numerical_features.append(col)\n",
    "    else:\n",
    "        categorical_features.append(col)\n",
    "\n",
    "print('Categorical Features :', *categorical_features, len(categorical_features))\n",
    "print('Numerical Features :', *numerical_features, len(numerical_features))"
   ]
  },
  {
   "cell_type": "code",
   "execution_count": null,
   "metadata": {},
   "outputs": [],
   "source": [
    "# features = numerical_features.copy()\n",
    "# features.append('attack')\n",
    "# features"
   ]
  },
  {
   "cell_type": "markdown",
   "metadata": {},
   "source": [
    "### Univariate Analysis"
   ]
  },
  {
   "cell_type": "code",
   "execution_count": null,
   "metadata": {},
   "outputs": [],
   "source": [
    "# # %matplotlib inline\n",
    "# heart_copy.hist(bins=15, figsize=(16,10)) #figsize = (width, height)\n",
    "# plt.show()"
   ]
  },
  {
   "cell_type": "markdown",
   "metadata": {},
   "source": [
    "#### Univariate analysis on categorical columns"
   ]
  },
  {
   "cell_type": "code",
   "execution_count": null,
   "metadata": {},
   "outputs": [],
   "source": [
    "plt.figure(figsize=(10,8))\n",
    "for i, col in enumerate(categorical_features, 1):\n",
    "    plt.subplot(3,3,i)\n",
    "    plt.title(f\"Distribution of {col} Data\")\n",
    "    sns.histplot(heart_copy[col])\n",
    "    plt.tight_layout()\n",
    "    plt.plot()"
   ]
  },
  {
   "cell_type": "code",
   "execution_count": null,
   "metadata": {},
   "outputs": [],
   "source": [
    "heart_copy[categorical_features].skew().sort_values(ascending=False)"
   ]
  },
  {
   "cell_type": "markdown",
   "metadata": {},
   "source": [
    "**Observations:**  \n",
    "- The frequency of feature values is not uniform. This maybe because some types appear more frequently than others or it maybe attributed to poor data collection techniques.\n",
    "- Distributions are not normally distributed (i.e. Gaussian). This will limit model performance for models which assume data to be normally distributed.\n",
    "<!-- Standardization using `StandardScaler` shouldn't be used to scale the data.  Normalization should be performed so something like `MinMaxScaler` can be used instead. -->\n",
    "<!-- - Scales for the features are different, will require feature scaling.  -->\n",
    "<!-- - Several numeric features are actually categorical. -->\n",
    "<!-- - **Categorical Features:** `sex`, `cp`, `fbs`, `recg`, `angina`, `stslope`, `vessel`, `thal`, and `attack`.   -->\n",
    "<!-- - **Continuous Features:** `age`, `bp`, `chol`, `maxhr`, `oldpeak`. -->"
   ]
  },
  {
   "cell_type": "markdown",
   "metadata": {},
   "source": [
    "#### Univariate analysis on numerical columns"
   ]
  },
  {
   "cell_type": "code",
   "execution_count": null,
   "metadata": {},
   "outputs": [],
   "source": [
    "plt.figure(figsize=(10,8))\n",
    "for i, col in enumerate(numerical_features, 1):\n",
    "    plt.subplot(3,3,i)\n",
    "    plt.title(f\"Distribution of {col} Data\")\n",
    "    # sns.kdeplot(heart_copy[col], linewidth=1)\n",
    "    sns.histplot(heart_copy[col], kde=True, line_kws={'lw':1.5}, stat='density')\n",
    "    # sns.histplot(heart_copy[col], kde=True, line_kws={'lw':1.5}, stat='density', kde_kws=dict(cut=3))\n",
    "    # sns.distplot(heart_copy[col], kde_kws={'bw':1})\n",
    "    plt.tight_layout()\n",
    "    plt.plot()"
   ]
  },
  {
   "cell_type": "code",
   "execution_count": null,
   "metadata": {},
   "outputs": [],
   "source": [
    "heart_copy[numerical_features].skew().sort_values(ascending=False)"
   ]
  },
  {
   "cell_type": "markdown",
   "metadata": {},
   "source": [
    "**Observations:**  \n",
    "- Scales for the features are different, will require feature scaling. \n",
    "- Standardization using `StandardScaler` shouldn't be used to scale the data.  Normalization should be performed so something like `MinMaxScaler` can be used instead.\n",
    "- Distributions are not normally distributed (i.e. Gaussian). This will limit model performance for models which assume data to be normally distributed."
   ]
  },
  {
   "cell_type": "markdown",
   "metadata": {},
   "source": [
    "#### Univariate analysis on target column"
   ]
  },
  {
   "cell_type": "code",
   "execution_count": null,
   "metadata": {},
   "outputs": [],
   "source": [
    "# check_balance(heart_copy, 'attack', 1, 0)"
   ]
  },
  {
   "cell_type": "code",
   "execution_count": null,
   "metadata": {},
   "outputs": [],
   "source": [
    "l = list(heart_copy['attack'].value_counts())\n",
    "circle = [l[1] / sum(l) * 100,l[0] / sum(l) * 100]\n",
    "\n",
    "fig, ax = plt.subplots(nrows = 1,ncols = 2,figsize = (14,5))\n",
    "plt.subplot(1,2,1)\n",
    "sns.histplot(heart_copy['attack'])\n",
    "plt.title('Cases of Heart Disease');\n",
    "\n",
    "plt.subplot(1,2,2)\n",
    "plt.pie(circle, labels = ['No Heart Disease','Heart Disease'],autopct='%1.1f%%',startangle = 90,explode = (0.1,0))\n",
    "plt.title('Heart Disease %');\n",
    "plt.show()"
   ]
  },
  {
   "cell_type": "markdown",
   "metadata": {},
   "source": [
    "**Observations:**\n",
    "- The frequency of the target values are not very different.  This is a very balanced dataset."
   ]
  },
  {
   "cell_type": "markdown",
   "metadata": {},
   "source": [
    "### Bivariate Analysis"
   ]
  },
  {
   "cell_type": "markdown",
   "metadata": {},
   "source": [
    "#### Target variable vs Categorical features"
   ]
  },
  {
   "cell_type": "code",
   "execution_count": null,
   "metadata": {},
   "outputs": [],
   "source": [
    "fig, ax = plt.subplots(nrows = 3,ncols = 3,figsize = (16,18))\n",
    "# fig, ax = plt.subplots(nrows = 4,ncols = 2,figsize = (10, 20))\n",
    "for i in range(len(categorical_features)):\n",
    "    plt.subplot(3,3,i+1)\n",
    "    # plt.subplot(4,2,i+1)\n",
    "    ax = sns.countplot(data = heart_copy, x = categorical_features[i], hue = \"attack\", edgecolor = 'black')\n",
    "    for rect in ax.patches:\n",
    "        ax.text(rect.get_x() + rect.get_width() / 2, rect.get_height() + 2, rect.get_height(), horizontalalignment='center', fontsize = 11)\n",
    "    title = categorical_features[i] + ' vs attack'\n",
    "    plt.legend(['No Heart Disease','Heart Disease'])\n",
    "    plt.title(title);"
   ]
  },
  {
   "cell_type": "markdown",
   "metadata": {},
   "source": [
    "**Observations**\n",
    "- Number of **Males** with heart attack are greater than number of males without heart attack.\n",
    "- Number of **Females** with heart attack are lesser than number of females without heart attack.\n",
    "- Presence of **asymptomatic** type of **chest pain** results shows a greater risk of heart attack.\n",
    "- **Fasting Blood Sugar** level shows no direct relation with heart attack.\n",
    "- Normal **Resting ECG** indicates a little lower risk of heart attack.\n",
    "- Patients with **Exercise induced Engina** have a higher risk of heart diseases.\n",
    "- Patients with **flat** ST slope have a very high probability of having heart attack.\n",
    "- Patients with a non-zero **number of major vessels colored by flourosopy** have a greater risk of heart attack.\n",
    "- Patients with **reversible thalassemia** are at a high risk."
   ]
  },
  {
   "cell_type": "markdown",
   "metadata": {},
   "source": [
    "#### Target variable vs Numerical features"
   ]
  },
  {
   "cell_type": "code",
   "execution_count": null,
   "metadata": {},
   "outputs": [],
   "source": [
    "sns.pairplot(heart_copy, hue='attack')\n",
    "plt.legend('attack')\n",
    "plt.show()"
   ]
  },
  {
   "cell_type": "markdown",
   "metadata": {},
   "source": [
    "We divide the numerical data into groups and then plot these groups."
   ]
  },
  {
   "cell_type": "code",
   "execution_count": null,
   "metadata": {},
   "outputs": [],
   "source": [
    "scaling_factors = {\n",
    "    'age': 5,\n",
    "    'bp': 10,\n",
    "    'chol': 50,\n",
    "    'maxhr': 20,\n",
    "    'oldpeak': 0.5 # creates a problem\n",
    "}\n",
    "# scale['age']"
   ]
  },
  {
   "cell_type": "code",
   "execution_count": null,
   "metadata": {},
   "outputs": [],
   "source": [
    "# heart_copy = heart.copy()\n",
    "# heart_copy['attack'] = heart_copy['attack'].apply(lambda x: 'Attack' if x == 1 else 'No attack')\n",
    "# # heart_copy\n",
    "\n",
    "for i in numerical_features:\n",
    "    heart_copy[f\"{i}_grp\"] = [int(j/scaling_factors[i]) for j in heart_copy[i]]"
   ]
  },
  {
   "cell_type": "code",
   "execution_count": null,
   "metadata": {},
   "outputs": [],
   "source": [
    "fig, ax = plt.subplots(nrows = 5,ncols = 1,figsize = (12,28))\n",
    "\n",
    "for idx, grp in enumerate(numerical_features):\n",
    "    # if idx+1 == len(numerical_features):\n",
    "    #     break\n",
    "    \n",
    "    grp_name = f\"{grp}_grp\"\n",
    "    plt.subplot(5,1,idx+1)\n",
    "    ax = sns.countplot(data = heart_copy, x = grp_name, hue = \"attack\", edgecolor = 'black')\n",
    "    for rect in ax.patches:\n",
    "        ax.text(rect.get_x() + rect.get_width() / 2, rect.get_height() + 1, rect.get_height(), horizontalalignment='center', fontsize = 11)\n",
    "\n",
    "    ax.set_xticks(range(heart_copy[grp_name].nunique()))\n",
    "    mn = heart_copy[grp_name].min()\n",
    "    l = heart_copy[grp_name].nunique()\n",
    "    scale = scaling_factors[grp]\n",
    "    # ax.set_xticklabels([f\"{i}-{i+scale-1}\" for i in range(scale*mn,  scale*(mn + l), scale)])\n",
    "    ax.set_xticklabels([f\"{i}-{i+scale-(1 if scale > 1 else 0.1)}\" for i in np.arange(scale*mn,  scale*(mn + l), scale)])\n",
    "    plt.legend(['No Heart Disease','Heart Disease'])\n",
    "    plt.title(f\"{grp_name} vs attack\");"
   ]
  },
  {
   "cell_type": "markdown",
   "metadata": {},
   "source": [
    "**Observations:**\n",
    "- Patients with **age** > 55 have a very high risk of heart attack.\n",
    "- Resting **blood pressure** of 110 and above shows a little risk of heart attack, wherease BP > 160 have a very high risk of heart attack.\n",
    "- **Cholestrol level** > 250 poses a high risk.\n",
    "- **Maximum heart rate** achieved between 80 - 140 poses a very high risk.\n",
    "- Patients with **old peak** > 1 also have a high probability of having a heart attack."
   ]
  },
  {
   "cell_type": "markdown",
   "metadata": {},
   "source": [
    "### Multivariate Analysis"
   ]
  },
  {
   "cell_type": "markdown",
   "metadata": {},
   "source": [
    "#### Target variable and Categorical features vs Numerical features"
   ]
  },
  {
   "cell_type": "markdown",
   "metadata": {},
   "source": [
    "##### Sex vs Numerical Features"
   ]
  },
  {
   "cell_type": "code",
   "execution_count": null,
   "metadata": {},
   "outputs": [],
   "source": [
    "fig, ax = plt.subplots(nrows = 2,ncols = 3,figsize = (15,10))\n",
    "for i in range(5):\n",
    "    plt.subplot(2,3,i+1)\n",
    "    sns.stripplot(x = 'sex',y = numerical_features[i],data = heart_copy,hue = 'attack')\n",
    "    # plt.legend(['No Heart attack', 'Heart attack']) # why this does not work?\n",
    "    plt.title(f\"{numerical_features[i]} vs sex\")"
   ]
  },
  {
   "cell_type": "markdown",
   "metadata": {},
   "source": [
    "**Observations:**\n",
    "- **Males** have very significant heart attack risk for age > 50 and maximum heart rate < 140. For blood pressure, cholesterol and oldpeak, heart attack occurrence do not show any particular range.\n",
    "- Since **female** population data points are very less as compared to male population data points, we cannot point to specific ranges or values that display cases of heart attack."
   ]
  },
  {
   "cell_type": "markdown",
   "metadata": {},
   "source": [
    "##### Chest pain type vs Numerical Features"
   ]
  },
  {
   "cell_type": "code",
   "execution_count": null,
   "metadata": {},
   "outputs": [],
   "source": [
    "fig, ax = plt.subplots(nrows = 2,ncols = 3,figsize = (15,10))\n",
    "for i in range(5):\n",
    "    plt.subplot(2,3,i+1)\n",
    "    sns.stripplot(x = 'cp',y = numerical_features[i], data = heart_copy,hue = 'attack')\n",
    "    # plt.legend(['No Heart attack', 'Heart attack']) # why this does not work?\n",
    "    plt.title(f\"{numerical_features[i]} vs sex\")"
   ]
  },
  {
   "cell_type": "markdown",
   "metadata": {},
   "source": [
    "**Observations:**\n",
    "- **Asymptomatic** chest pain shows a very high heart attack risk. Other chest pain types do not show significant risk."
   ]
  },
  {
   "cell_type": "markdown",
   "metadata": {},
   "source": [
    "##### Fasting Blood Sugar vs Numerical features"
   ]
  },
  {
   "cell_type": "code",
   "execution_count": null,
   "metadata": {},
   "outputs": [],
   "source": [
    "fig, ax = plt.subplots(nrows = 2,ncols = 3,figsize = (15,10))\n",
    "for i in range(5):\n",
    "    plt.subplot(2,3,i+1)\n",
    "    sns.stripplot(x = 'fbs',y = numerical_features[i], data = heart_copy,hue = 'attack')\n",
    "    # plt.legend(['No Heart attack', 'Heart attack']) # why this does not work?\n",
    "    plt.title(f\"{numerical_features[i]} vs sex\")"
   ]
  },
  {
   "cell_type": "markdown",
   "metadata": {},
   "source": [
    "**Observations:**\n",
    "- Above the **age** of 50, heart attack can occur irrespective of the fasting Blood Sugar level.\n",
    "- Fasting Blood Sugar < 120 and **Resting BP > 130** can cause significant risk.\n",
    "- **Cholesterol** can cause heart attack irrespective of the fasting blood sugar level.\n",
    "- Patients with fasting blood sugar < 120 and **maximum heart rate below 140** are more prone to heart attack.\n",
    "- Any **Oldpeak** value seems to cause heart attack irrespective of the fasting blood sugar level."
   ]
  },
  {
   "cell_type": "markdown",
   "metadata": {},
   "source": [
    "##### Resting ECG vs Numerical Features :"
   ]
  },
  {
   "cell_type": "code",
   "execution_count": null,
   "metadata": {},
   "outputs": [],
   "source": [
    "fig, ax = plt.subplots(nrows = 2,ncols = 3,figsize = (15,10))\n",
    "for i in range(5):\n",
    "    plt.subplot(2,3,i+1)\n",
    "    sns.stripplot(x = 'ecg',y = numerical_features[i], data = heart_copy,hue = 'attack')\n",
    "    # plt.legend(['No Heart attack', 'Heart attack']) # why this does not work?\n",
    "    plt.title(f\"{numerical_features[i]} vs sex\")"
   ]
  },
  {
   "cell_type": "markdown",
   "metadata": {},
   "source": [
    "**Observations:**\n"
   ]
  },
  {
   "cell_type": "markdown",
   "metadata": {},
   "source": [
    "##### Exercise Angina vs Numerical Features :"
   ]
  },
  {
   "cell_type": "code",
   "execution_count": null,
   "metadata": {},
   "outputs": [],
   "source": [
    "fig, ax = plt.subplots(nrows = 2,ncols = 3,figsize = (15,10))\n",
    "for i in range(5):\n",
    "    plt.subplot(2,3,i+1)\n",
    "    sns.stripplot(x = 'angina',y = numerical_features[i], data = heart_copy,hue = 'attack')\n",
    "    # plt.legend(['No Heart attack', 'Heart attack']) # why this does not work?\n",
    "    plt.title(f\"{numerical_features[i]} vs sex\")"
   ]
  },
  {
   "cell_type": "markdown",
   "metadata": {},
   "source": [
    "**Observations:**\n"
   ]
  },
  {
   "cell_type": "markdown",
   "metadata": {},
   "source": [
    "##### ST_Slope vs Numerical Features :"
   ]
  },
  {
   "cell_type": "code",
   "execution_count": null,
   "metadata": {},
   "outputs": [],
   "source": [
    "fig, ax = plt.subplots(nrows = 2,ncols = 3,figsize = (15,10))\n",
    "for i in range(5):\n",
    "    plt.subplot(2,3,i+1)\n",
    "    sns.stripplot(x = 'stslope',y = numerical_features[i], data = heart_copy,hue = 'attack')\n",
    "    # plt.legend(['No Heart attack', 'Heart attack']) # why this does not work?\n",
    "    plt.title(f\"{numerical_features[i]} vs sex\")"
   ]
  },
  {
   "cell_type": "markdown",
   "metadata": {},
   "source": [
    "**Observations:**\n"
   ]
  },
  {
   "cell_type": "markdown",
   "metadata": {},
   "source": [
    "#### Target variable and Numerical features vs Numerical features"
   ]
  },
  {
   "cell_type": "code",
   "execution_count": null,
   "metadata": {},
   "outputs": [],
   "source": [
    "a = 0\n",
    "fig,ax = plt.subplots(nrows = 5,ncols = 2,figsize = (15,25))\n",
    "for i in range(len(numerical_features)):\n",
    "    for j in range(len(numerical_features)):\n",
    "        if i != j and j > i:\n",
    "            a += 1\n",
    "            plt.subplot(5,2,a)\n",
    "            sns.scatterplot(x = numerical_features[i],y = numerical_features[j],data = heart_copy,hue = 'attack', edgecolor = 'black');\n",
    "            # plt.legend(['No Heart attack', 'Heart attack']) # why does this not work?\n",
    "            plt.title(f\"{numerical_features[i]} vs {numerical_features[j]}\")"
   ]
  },
  {
   "cell_type": "markdown",
   "metadata": {},
   "source": [
    "**Observations:**\n"
   ]
  },
  {
   "cell_type": "markdown",
   "metadata": {},
   "source": [
    "## Feature Engineering"
   ]
  },
  {
   "cell_type": "markdown",
   "metadata": {},
   "source": [
    "### Collinearity Analysis"
   ]
  },
  {
   "cell_type": "code",
   "execution_count": null,
   "metadata": {},
   "outputs": [],
   "source": [
    "sns.pairplot(heart[numerical_features], hue='attack')"
   ]
  },
  {
   "cell_type": "code",
   "execution_count": null,
   "metadata": {},
   "outputs": [],
   "source": [
    "cols = numerical_features.copy()\n",
    "cols.append('attack')\n",
    "\n",
    "corr_matrix = heart[cols].corr()\n",
    "corr_matrix"
   ]
  },
  {
   "cell_type": "code",
   "execution_count": null,
   "metadata": {},
   "outputs": [],
   "source": [
    "sns.heatmap(round(corr_matrix, 2), annot=True)"
   ]
  },
  {
   "cell_type": "markdown",
   "metadata": {},
   "source": [
    "**Observations:**\n",
    "- There is very little to no correlation between variables.\n",
    "- Highest correlation between features is `-0.39` for `age` and `maxhr`.\n",
    "- Highest correlation between `attack` and feature is for `oldpeak` (`0.42`) and `maxhr` (`-0.42`).\n",
    "- We can check if removing `oldpeak` can give any performance boost."
   ]
  },
  {
   "cell_type": "markdown",
   "metadata": {},
   "source": [
    "### Data scaling"
   ]
  },
  {
   "cell_type": "code",
   "execution_count": null,
   "metadata": {},
   "outputs": [],
   "source": [
    "mms = MinMaxScaler()\n",
    "\n",
    "for col in numerical_features:\n",
    "    heart[col] = mms.fit_transform(heart[[col]])"
   ]
  },
  {
   "cell_type": "markdown",
   "metadata": {},
   "source": [
    "## Train ML algorithms"
   ]
  },
  {
   "cell_type": "markdown",
   "metadata": {},
   "source": [
    "### Split data into train and test"
   ]
  },
  {
   "cell_type": "code",
   "execution_count": null,
   "metadata": {},
   "outputs": [],
   "source": [
    "features = heart[heart.columns.drop(['attack'])].values\n",
    "target = heart['attack'].values\n",
    "X_train, X_test, y_train, y_test = train_test_split(features, target, test_size = 0.20, random_state = 2)"
   ]
  },
  {
   "cell_type": "markdown",
   "metadata": {},
   "source": [
    "### Utility function for Prediction"
   ]
  },
  {
   "cell_type": "code",
   "execution_count": null,
   "metadata": {},
   "outputs": [],
   "source": [
    "def model(classifier):\n",
    "    classifier.fit(X_train, y_train)\n",
    "    prediction = classifier.predict(X_test)\n",
    "    \n",
    "    # Confusion matrix\n",
    "    cm = confusion_matrix(y_test,prediction)\n",
    "    names = ['True Neg','False Pos','False Neg','True Pos']\n",
    "    counts = [value for value in cm.flatten()]\n",
    "    percentages = ['{0:.2%}'.format(value) for value in cm.flatten()/np.sum(cm)]\n",
    "    labels = [f'{v1}\\n{v2}\\n{v3}' for v1, v2, v3 in zip(names,counts,percentages)]\n",
    "    labels = np.asarray(labels).reshape(2,2)\n",
    "    sns.heatmap(cm,annot = labels,fmt ='')\n",
    "    \n",
    "    # Classification Report\n",
    "    print(classification_report(y_test,prediction))"
   ]
  }
 ],
 "metadata": {
  "kernelspec": {
   "display_name": "test",
   "language": "python",
   "name": "python3"
  },
  "language_info": {
   "codemirror_mode": {
    "name": "ipython",
    "version": 3
   },
   "file_extension": ".py",
   "mimetype": "text/x-python",
   "name": "python",
   "nbconvert_exporter": "python",
   "pygments_lexer": "ipython3",
   "version": "3.10.13"
  }
 },
 "nbformat": 4,
 "nbformat_minor": 2
}
