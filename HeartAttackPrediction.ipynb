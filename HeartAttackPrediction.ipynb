{
 "cells": [
  {
   "cell_type": "markdown",
   "metadata": {},
   "source": [
    "# Heart Attack Prediction"
   ]
  },
  {
   "cell_type": "markdown",
   "metadata": {},
   "source": [
    "This Jupyter Notebook is created for the **Biotech Final Year Project** of **MNNIT Allahabad, Dept of Biotechnology**.   \n",
    "The notebook contains code to predict risk of heart attack using various Machine Learning techniques based on health and heart-based parameters.\n",
    "\n",
    "This notebook and all other relevant files are available on [Github](https://github.com/agg-geek/HeartAttackPrediction).\n",
    "\n"
   ]
  },
  {
   "cell_type": "markdown",
   "metadata": {},
   "source": [
    "### Project Supervisor:\n",
    "Dr. Ashutosh Mani,  \n",
    "Associate Professor, Department of Biotechnology\n",
    "\n",
    "### Project team members:\n",
    "- Abhinav Aggarwal, 20200003\n",
    "- Ratna Rathaur, 20200041\n",
    "- Shivam Pandey, 20200049"
   ]
  },
  {
   "cell_type": "markdown",
   "metadata": {},
   "source": [
    "### Import packages"
   ]
  },
  {
   "cell_type": "code",
   "execution_count": 1,
   "metadata": {},
   "outputs": [],
   "source": [
    "import numpy as np\n",
    "import pandas as pd\n",
    "import matplotlib\n",
    "from matplotlib import pyplot as plt\n",
    "import seaborn as sns\n",
    "matplotlib.style.use('ggplot')\n",
    "# matplotlib.style.use('fivethirtyeight')\n",
    "# matplotlib.style.use('seaborn-v0_8')\n",
    "\n",
    "# # For Chi square test in feature selection\n",
    "# from sklearn.feature_selection import SelectKBest\n",
    "# from sklearn.feature_selection import chi2\n",
    "\n",
    "# # For ANOVA test in feature selection\n",
    "# from sklearn.feature_selection import f_classif\n",
    "\n",
    "# For Data scaling\n",
    "from sklearn.preprocessing import MinMaxScaler\n",
    "\n",
    "from sklearn.model_selection import train_test_split\n",
    "from sklearn.metrics import confusion_matrix\n",
    "from sklearn.metrics import classification_report\n",
    "\n",
    "\n",
    "from sklearn.neighbors import KNeighborsClassifier\n",
    "from sklearn.linear_model import LogisticRegression"
   ]
  },
  {
   "cell_type": "markdown",
   "metadata": {},
   "source": [
    "### Import dataset"
   ]
  },
  {
   "cell_type": "code",
   "execution_count": 2,
   "metadata": {},
   "outputs": [
    {
     "data": {
      "text/html": [
       "<div>\n",
       "<style scoped>\n",
       "    .dataframe tbody tr th:only-of-type {\n",
       "        vertical-align: middle;\n",
       "    }\n",
       "\n",
       "    .dataframe tbody tr th {\n",
       "        vertical-align: top;\n",
       "    }\n",
       "\n",
       "    .dataframe thead th {\n",
       "        text-align: right;\n",
       "    }\n",
       "</style>\n",
       "<table border=\"1\" class=\"dataframe\">\n",
       "  <thead>\n",
       "    <tr style=\"text-align: right;\">\n",
       "      <th></th>\n",
       "      <th>age</th>\n",
       "      <th>sex</th>\n",
       "      <th>cp</th>\n",
       "      <th>bp</th>\n",
       "      <th>chol</th>\n",
       "      <th>fbs</th>\n",
       "      <th>ecg</th>\n",
       "      <th>maxhr</th>\n",
       "      <th>angina</th>\n",
       "      <th>oldpeak</th>\n",
       "      <th>stslope</th>\n",
       "      <th>vessel</th>\n",
       "      <th>thal</th>\n",
       "      <th>attack</th>\n",
       "    </tr>\n",
       "  </thead>\n",
       "  <tbody>\n",
       "    <tr>\n",
       "      <th>41</th>\n",
       "      <td>40.0</td>\n",
       "      <td>1.0</td>\n",
       "      <td>1.0</td>\n",
       "      <td>140.0</td>\n",
       "      <td>199.0</td>\n",
       "      <td>0.0</td>\n",
       "      <td>0.0</td>\n",
       "      <td>178.0</td>\n",
       "      <td>1.0</td>\n",
       "      <td>1.4</td>\n",
       "      <td>1.0</td>\n",
       "      <td>0.0</td>\n",
       "      <td>7.0</td>\n",
       "      <td>0</td>\n",
       "    </tr>\n",
       "    <tr>\n",
       "      <th>263</th>\n",
       "      <td>44.0</td>\n",
       "      <td>1.0</td>\n",
       "      <td>3.0</td>\n",
       "      <td>120.0</td>\n",
       "      <td>226.0</td>\n",
       "      <td>0.0</td>\n",
       "      <td>0.0</td>\n",
       "      <td>169.0</td>\n",
       "      <td>0.0</td>\n",
       "      <td>0.0</td>\n",
       "      <td>1.0</td>\n",
       "      <td>0.0</td>\n",
       "      <td>3.0</td>\n",
       "      <td>0</td>\n",
       "    </tr>\n",
       "    <tr>\n",
       "      <th>105</th>\n",
       "      <td>54.0</td>\n",
       "      <td>1.0</td>\n",
       "      <td>2.0</td>\n",
       "      <td>108.0</td>\n",
       "      <td>309.0</td>\n",
       "      <td>0.0</td>\n",
       "      <td>0.0</td>\n",
       "      <td>156.0</td>\n",
       "      <td>0.0</td>\n",
       "      <td>0.0</td>\n",
       "      <td>1.0</td>\n",
       "      <td>0.0</td>\n",
       "      <td>7.0</td>\n",
       "      <td>0</td>\n",
       "    </tr>\n",
       "    <tr>\n",
       "      <th>159</th>\n",
       "      <td>68.0</td>\n",
       "      <td>1.0</td>\n",
       "      <td>3.0</td>\n",
       "      <td>118.0</td>\n",
       "      <td>277.0</td>\n",
       "      <td>0.0</td>\n",
       "      <td>0.0</td>\n",
       "      <td>151.0</td>\n",
       "      <td>0.0</td>\n",
       "      <td>1.0</td>\n",
       "      <td>1.0</td>\n",
       "      <td>1.0</td>\n",
       "      <td>7.0</td>\n",
       "      <td>0</td>\n",
       "    </tr>\n",
       "    <tr>\n",
       "      <th>274</th>\n",
       "      <td>59.0</td>\n",
       "      <td>1.0</td>\n",
       "      <td>1.0</td>\n",
       "      <td>134.0</td>\n",
       "      <td>204.0</td>\n",
       "      <td>0.0</td>\n",
       "      <td>0.0</td>\n",
       "      <td>162.0</td>\n",
       "      <td>0.0</td>\n",
       "      <td>0.8</td>\n",
       "      <td>1.0</td>\n",
       "      <td>2.0</td>\n",
       "      <td>3.0</td>\n",
       "      <td>1</td>\n",
       "    </tr>\n",
       "  </tbody>\n",
       "</table>\n",
       "</div>"
      ],
      "text/plain": [
       "      age  sex   cp     bp   chol  fbs  ecg  maxhr  angina  oldpeak  stslope  \\\n",
       "41   40.0  1.0  1.0  140.0  199.0  0.0  0.0  178.0     1.0      1.4      1.0   \n",
       "263  44.0  1.0  3.0  120.0  226.0  0.0  0.0  169.0     0.0      0.0      1.0   \n",
       "105  54.0  1.0  2.0  108.0  309.0  0.0  0.0  156.0     0.0      0.0      1.0   \n",
       "159  68.0  1.0  3.0  118.0  277.0  0.0  0.0  151.0     0.0      1.0      1.0   \n",
       "274  59.0  1.0  1.0  134.0  204.0  0.0  0.0  162.0     0.0      0.8      1.0   \n",
       "\n",
       "     vessel  thal  attack  \n",
       "41      0.0   7.0       0  \n",
       "263     0.0   3.0       0  \n",
       "105     0.0   7.0       0  \n",
       "159     1.0   7.0       0  \n",
       "274     2.0   3.0       1  "
      ]
     },
     "execution_count": 2,
     "metadata": {},
     "output_type": "execute_result"
    }
   ],
   "source": [
    "column_names = ['age', 'sex', 'cp', 'bp', 'chol', 'fbs', 'ecg', 'maxhr', 'angina', 'oldpeak', 'stslope', 'vessel', 'thal', 'attack']\n",
    "heart = pd.read_csv('dataset/cleveland.data', names=column_names, sep=',', na_values='?')\n",
    "heart.sample(5)"
   ]
  },
  {
   "cell_type": "code",
   "execution_count": null,
   "metadata": {},
   "outputs": [],
   "source": [
    "# column_names = ['age', 'sex', 'cp', 'bp', 'chol', 'fbs', 'ecg', 'maxhr', 'angina', 'oldpeak', 'stslope', 'vessel', 'thal', 'attack']\n",
    "# heart2 = pd.read_csv('dataset/cleveland.data', names=column_names, sep=',')\n",
    "# heart2.sample(5)"
   ]
  },
  {
   "cell_type": "markdown",
   "metadata": {},
   "source": [
    "### About the dataset\n"
   ]
  },
  {
   "cell_type": "markdown",
   "metadata": {},
   "source": [
    "- `age`: Age of the patient (years)\n",
    "- `sex`: Sex of the patient (1: Male or 0: Female)\n",
    "- `cp`:  Chest pain type (0: Typical Angina, 1: Atypical Angina, 2: Non-Anginal Pain, 3: Asymptomatic)\n",
    "- `bp`:  Resting blood pressure (mm Hg)\n",
    "- `chol`:  Cholesterol level (mg/dL)\n",
    "- `fbs`: Fasting blood sugar (1: if fbs > 120 mg/dl, 0: otherwise)\n",
    "- `ecg`: Resting ECG results\n",
    "    - 0: Normal\n",
    "    - 1: having ST-T wave abnormality (T wave inversions and/or ST elevation or depression of > 0.05 mV)\n",
    "    - 2: showing probable or definite left ventricular hypertrophy by Estes' criteria\n",
    "- `maxhr`: Maximum heart rate achieved (bpm)  \n",
    "- `angina`: Exercise Induced Angina (1: Yes, 0: No)\n",
    "- `oldpeak`: ST depression induced by exercise relative to rest\n",
    "- `stslope`: Slope of the peak exercise ST segment (0: upsloping, 1: flat, 2: downsloping)\n",
    "- `vessel`: Number of major vessels colored by flourosopy (0 - 4)\n",
    "- `thal`: Thalassemia blood disorder (3 (0) = normal; 6 (1) = fixed defect; 7 (2) = reversable defect)\n",
    "- `attack`: Target variable (0 = no heart attack, 1 - 4: heart attack)"
   ]
  },
  {
   "cell_type": "markdown",
   "metadata": {},
   "source": [
    "## Initial Inference"
   ]
  },
  {
   "cell_type": "code",
   "execution_count": null,
   "metadata": {},
   "outputs": [],
   "source": [
    "heart.info()"
   ]
  },
  {
   "cell_type": "markdown",
   "metadata": {},
   "source": [
    "**Observations:**\n",
    "- There are 303 instances.\n",
    "- There are 13 features and 1 target variable.\n",
    "- All features have datatype `float64`. Many of these features can be converted to `int64` to save space."
   ]
  },
  {
   "cell_type": "code",
   "execution_count": null,
   "metadata": {},
   "outputs": [],
   "source": [
    "heart.isnull().sum()"
   ]
  },
  {
   "cell_type": "markdown",
   "metadata": {},
   "source": [
    "**Observations:**  \n",
    "There are 4 missing values in `vessel` and 2 missing values in `thal`.  \n",
    "To handle these missing values, we will need to either remove the instances containing the missing values or fill them.  \n",
    "We do not have any data to fill the missing values with. We could either fill them with the mean value of their corresponding columns or just remove them.  \n",
    "Since only 6 instances will be removed if we remove the missing values, we will simply remove the missing values."
   ]
  },
  {
   "cell_type": "code",
   "execution_count": 3,
   "metadata": {},
   "outputs": [],
   "source": [
    "heart.dropna(inplace=True)"
   ]
  },
  {
   "cell_type": "code",
   "execution_count": null,
   "metadata": {},
   "outputs": [],
   "source": [
    "heart.duplicated().sum()"
   ]
  },
  {
   "cell_type": "markdown",
   "metadata": {},
   "source": [
    "**Observation:**  \n",
    "There are no duplicated rows.\n"
   ]
  },
  {
   "cell_type": "markdown",
   "metadata": {},
   "source": [
    "#### Update dataset columns"
   ]
  },
  {
   "cell_type": "code",
   "execution_count": 4,
   "metadata": {},
   "outputs": [],
   "source": [
    "heart['cp'] = heart['cp'].apply(lambda x: x-1)"
   ]
  },
  {
   "cell_type": "code",
   "execution_count": 5,
   "metadata": {},
   "outputs": [],
   "source": [
    "def change_thal(x):\n",
    "    if x == 3:\n",
    "        return 0\n",
    "    elif x == 6:\n",
    "        return 1\n",
    "    else:\n",
    "        return 2\n",
    "\n",
    "heart['thal'] = heart['thal'].apply(change_thal)"
   ]
  },
  {
   "cell_type": "code",
   "execution_count": null,
   "metadata": {},
   "outputs": [],
   "source": [
    "heart['attack'].value_counts()"
   ]
  },
  {
   "cell_type": "markdown",
   "metadata": {},
   "source": [
    "**Observations:**  \n",
    "As mentioned in the dataset description, the target column `attack` is a categorical column with 0 denoting no heart attack and other values denoting heart attack.  \n",
    "We will transform the column such that 0 indicates no heart attack and 1 indicates heart attack."
   ]
  },
  {
   "cell_type": "code",
   "execution_count": 6,
   "metadata": {},
   "outputs": [
    {
     "data": {
      "text/plain": [
       "attack\n",
       "0    160\n",
       "1    137\n",
       "Name: count, dtype: int64"
      ]
     },
     "execution_count": 6,
     "metadata": {},
     "output_type": "execute_result"
    }
   ],
   "source": [
    "heart['attack'] = heart['attack'].apply(lambda x: 0 if x == 0 else 1)\n",
    "heart['attack'].value_counts()"
   ]
  },
  {
   "cell_type": "code",
   "execution_count": null,
   "metadata": {},
   "outputs": [],
   "source": [
    "heart.describe()"
   ]
  },
  {
   "cell_type": "markdown",
   "metadata": {},
   "source": [
    "## Exploratory Data Analysis"
   ]
  },
  {
   "cell_type": "markdown",
   "metadata": {},
   "source": [
    "#### Utility functions"
   ]
  },
  {
   "cell_type": "code",
   "execution_count": 7,
   "metadata": {},
   "outputs": [],
   "source": [
    "def check_balance(df, target_column, risk_value, not_risk_value):\n",
    "    risk = len(df[df[target_column] == risk_value])\n",
    "    no_risk = len(df[df[target_column] == not_risk_value])\n",
    "    total = risk + no_risk\n",
    "    # print(risk, no_risk, total)\n",
    "    print(f\"Percentage Risk: {risk / total * 100}%\")\n",
    "    print(f\"Percentage Not Risk: {no_risk / total * 100}%\")"
   ]
  },
  {
   "cell_type": "markdown",
   "metadata": {},
   "source": [
    "#### Create copy of dataset for EDA"
   ]
  },
  {
   "cell_type": "code",
   "execution_count": 8,
   "metadata": {},
   "outputs": [
    {
     "data": {
      "text/html": [
       "<div>\n",
       "<style scoped>\n",
       "    .dataframe tbody tr th:only-of-type {\n",
       "        vertical-align: middle;\n",
       "    }\n",
       "\n",
       "    .dataframe tbody tr th {\n",
       "        vertical-align: top;\n",
       "    }\n",
       "\n",
       "    .dataframe thead th {\n",
       "        text-align: right;\n",
       "    }\n",
       "</style>\n",
       "<table border=\"1\" class=\"dataframe\">\n",
       "  <thead>\n",
       "    <tr style=\"text-align: right;\">\n",
       "      <th></th>\n",
       "      <th>age</th>\n",
       "      <th>sex</th>\n",
       "      <th>cp</th>\n",
       "      <th>bp</th>\n",
       "      <th>chol</th>\n",
       "      <th>fbs</th>\n",
       "      <th>ecg</th>\n",
       "      <th>maxhr</th>\n",
       "      <th>angina</th>\n",
       "      <th>oldpeak</th>\n",
       "      <th>stslope</th>\n",
       "      <th>vessel</th>\n",
       "      <th>thal</th>\n",
       "      <th>attack</th>\n",
       "    </tr>\n",
       "  </thead>\n",
       "  <tbody>\n",
       "    <tr>\n",
       "      <th>0</th>\n",
       "      <td>63.0</td>\n",
       "      <td>1.0</td>\n",
       "      <td>0.0</td>\n",
       "      <td>145.0</td>\n",
       "      <td>233.0</td>\n",
       "      <td>1.0</td>\n",
       "      <td>2.0</td>\n",
       "      <td>150.0</td>\n",
       "      <td>0.0</td>\n",
       "      <td>2.3</td>\n",
       "      <td>3.0</td>\n",
       "      <td>0.0</td>\n",
       "      <td>1</td>\n",
       "      <td>No attack</td>\n",
       "    </tr>\n",
       "    <tr>\n",
       "      <th>1</th>\n",
       "      <td>67.0</td>\n",
       "      <td>1.0</td>\n",
       "      <td>3.0</td>\n",
       "      <td>160.0</td>\n",
       "      <td>286.0</td>\n",
       "      <td>0.0</td>\n",
       "      <td>2.0</td>\n",
       "      <td>108.0</td>\n",
       "      <td>1.0</td>\n",
       "      <td>1.5</td>\n",
       "      <td>2.0</td>\n",
       "      <td>3.0</td>\n",
       "      <td>0</td>\n",
       "      <td>Attack</td>\n",
       "    </tr>\n",
       "    <tr>\n",
       "      <th>2</th>\n",
       "      <td>67.0</td>\n",
       "      <td>1.0</td>\n",
       "      <td>3.0</td>\n",
       "      <td>120.0</td>\n",
       "      <td>229.0</td>\n",
       "      <td>0.0</td>\n",
       "      <td>2.0</td>\n",
       "      <td>129.0</td>\n",
       "      <td>1.0</td>\n",
       "      <td>2.6</td>\n",
       "      <td>2.0</td>\n",
       "      <td>2.0</td>\n",
       "      <td>2</td>\n",
       "      <td>Attack</td>\n",
       "    </tr>\n",
       "    <tr>\n",
       "      <th>3</th>\n",
       "      <td>37.0</td>\n",
       "      <td>1.0</td>\n",
       "      <td>2.0</td>\n",
       "      <td>130.0</td>\n",
       "      <td>250.0</td>\n",
       "      <td>0.0</td>\n",
       "      <td>0.0</td>\n",
       "      <td>187.0</td>\n",
       "      <td>0.0</td>\n",
       "      <td>3.5</td>\n",
       "      <td>3.0</td>\n",
       "      <td>0.0</td>\n",
       "      <td>0</td>\n",
       "      <td>No attack</td>\n",
       "    </tr>\n",
       "    <tr>\n",
       "      <th>4</th>\n",
       "      <td>41.0</td>\n",
       "      <td>0.0</td>\n",
       "      <td>1.0</td>\n",
       "      <td>130.0</td>\n",
       "      <td>204.0</td>\n",
       "      <td>0.0</td>\n",
       "      <td>2.0</td>\n",
       "      <td>172.0</td>\n",
       "      <td>0.0</td>\n",
       "      <td>1.4</td>\n",
       "      <td>1.0</td>\n",
       "      <td>0.0</td>\n",
       "      <td>0</td>\n",
       "      <td>No attack</td>\n",
       "    </tr>\n",
       "    <tr>\n",
       "      <th>...</th>\n",
       "      <td>...</td>\n",
       "      <td>...</td>\n",
       "      <td>...</td>\n",
       "      <td>...</td>\n",
       "      <td>...</td>\n",
       "      <td>...</td>\n",
       "      <td>...</td>\n",
       "      <td>...</td>\n",
       "      <td>...</td>\n",
       "      <td>...</td>\n",
       "      <td>...</td>\n",
       "      <td>...</td>\n",
       "      <td>...</td>\n",
       "      <td>...</td>\n",
       "    </tr>\n",
       "    <tr>\n",
       "      <th>297</th>\n",
       "      <td>57.0</td>\n",
       "      <td>0.0</td>\n",
       "      <td>3.0</td>\n",
       "      <td>140.0</td>\n",
       "      <td>241.0</td>\n",
       "      <td>0.0</td>\n",
       "      <td>0.0</td>\n",
       "      <td>123.0</td>\n",
       "      <td>1.0</td>\n",
       "      <td>0.2</td>\n",
       "      <td>2.0</td>\n",
       "      <td>0.0</td>\n",
       "      <td>2</td>\n",
       "      <td>Attack</td>\n",
       "    </tr>\n",
       "    <tr>\n",
       "      <th>298</th>\n",
       "      <td>45.0</td>\n",
       "      <td>1.0</td>\n",
       "      <td>0.0</td>\n",
       "      <td>110.0</td>\n",
       "      <td>264.0</td>\n",
       "      <td>0.0</td>\n",
       "      <td>0.0</td>\n",
       "      <td>132.0</td>\n",
       "      <td>0.0</td>\n",
       "      <td>1.2</td>\n",
       "      <td>2.0</td>\n",
       "      <td>0.0</td>\n",
       "      <td>2</td>\n",
       "      <td>Attack</td>\n",
       "    </tr>\n",
       "    <tr>\n",
       "      <th>299</th>\n",
       "      <td>68.0</td>\n",
       "      <td>1.0</td>\n",
       "      <td>3.0</td>\n",
       "      <td>144.0</td>\n",
       "      <td>193.0</td>\n",
       "      <td>1.0</td>\n",
       "      <td>0.0</td>\n",
       "      <td>141.0</td>\n",
       "      <td>0.0</td>\n",
       "      <td>3.4</td>\n",
       "      <td>2.0</td>\n",
       "      <td>2.0</td>\n",
       "      <td>2</td>\n",
       "      <td>Attack</td>\n",
       "    </tr>\n",
       "    <tr>\n",
       "      <th>300</th>\n",
       "      <td>57.0</td>\n",
       "      <td>1.0</td>\n",
       "      <td>3.0</td>\n",
       "      <td>130.0</td>\n",
       "      <td>131.0</td>\n",
       "      <td>0.0</td>\n",
       "      <td>0.0</td>\n",
       "      <td>115.0</td>\n",
       "      <td>1.0</td>\n",
       "      <td>1.2</td>\n",
       "      <td>2.0</td>\n",
       "      <td>1.0</td>\n",
       "      <td>2</td>\n",
       "      <td>Attack</td>\n",
       "    </tr>\n",
       "    <tr>\n",
       "      <th>301</th>\n",
       "      <td>57.0</td>\n",
       "      <td>0.0</td>\n",
       "      <td>1.0</td>\n",
       "      <td>130.0</td>\n",
       "      <td>236.0</td>\n",
       "      <td>0.0</td>\n",
       "      <td>2.0</td>\n",
       "      <td>174.0</td>\n",
       "      <td>0.0</td>\n",
       "      <td>0.0</td>\n",
       "      <td>2.0</td>\n",
       "      <td>1.0</td>\n",
       "      <td>0</td>\n",
       "      <td>Attack</td>\n",
       "    </tr>\n",
       "  </tbody>\n",
       "</table>\n",
       "<p>297 rows × 14 columns</p>\n",
       "</div>"
      ],
      "text/plain": [
       "      age  sex   cp     bp   chol  fbs  ecg  maxhr  angina  oldpeak  stslope  \\\n",
       "0    63.0  1.0  0.0  145.0  233.0  1.0  2.0  150.0     0.0      2.3      3.0   \n",
       "1    67.0  1.0  3.0  160.0  286.0  0.0  2.0  108.0     1.0      1.5      2.0   \n",
       "2    67.0  1.0  3.0  120.0  229.0  0.0  2.0  129.0     1.0      2.6      2.0   \n",
       "3    37.0  1.0  2.0  130.0  250.0  0.0  0.0  187.0     0.0      3.5      3.0   \n",
       "4    41.0  0.0  1.0  130.0  204.0  0.0  2.0  172.0     0.0      1.4      1.0   \n",
       "..    ...  ...  ...    ...    ...  ...  ...    ...     ...      ...      ...   \n",
       "297  57.0  0.0  3.0  140.0  241.0  0.0  0.0  123.0     1.0      0.2      2.0   \n",
       "298  45.0  1.0  0.0  110.0  264.0  0.0  0.0  132.0     0.0      1.2      2.0   \n",
       "299  68.0  1.0  3.0  144.0  193.0  1.0  0.0  141.0     0.0      3.4      2.0   \n",
       "300  57.0  1.0  3.0  130.0  131.0  0.0  0.0  115.0     1.0      1.2      2.0   \n",
       "301  57.0  0.0  1.0  130.0  236.0  0.0  2.0  174.0     0.0      0.0      2.0   \n",
       "\n",
       "     vessel  thal     attack  \n",
       "0       0.0     1  No attack  \n",
       "1       3.0     0     Attack  \n",
       "2       2.0     2     Attack  \n",
       "3       0.0     0  No attack  \n",
       "4       0.0     0  No attack  \n",
       "..      ...   ...        ...  \n",
       "297     0.0     2     Attack  \n",
       "298     0.0     2     Attack  \n",
       "299     2.0     2     Attack  \n",
       "300     1.0     2     Attack  \n",
       "301     1.0     0     Attack  \n",
       "\n",
       "[297 rows x 14 columns]"
      ]
     },
     "execution_count": 8,
     "metadata": {},
     "output_type": "execute_result"
    }
   ],
   "source": [
    "heart_copy = heart.copy()\n",
    "heart_copy['attack'] = heart_copy['attack'].apply(lambda x: 'Attack' if x == 1 else 'No attack')\n",
    "heart_copy"
   ]
  },
  {
   "cell_type": "markdown",
   "metadata": {},
   "source": [
    "#### Create lists for features"
   ]
  },
  {
   "cell_type": "code",
   "execution_count": 9,
   "metadata": {},
   "outputs": [
    {
     "name": "stdout",
     "output_type": "stream",
     "text": [
      "Categorical Features : sex cp fbs ecg angina stslope vessel thal 8\n",
      "Numerical Features : age bp chol maxhr oldpeak 5\n"
     ]
    }
   ],
   "source": [
    "categorical_features = []\n",
    "numerical_features = []\n",
    "\n",
    "for col in list(heart_copy.columns)[:-1]:\n",
    "    if heart_copy[col].nunique() > 5:\n",
    "        numerical_features.append(col)\n",
    "    else:\n",
    "        categorical_features.append(col)\n",
    "\n",
    "print('Categorical Features :', *categorical_features, len(categorical_features))\n",
    "print('Numerical Features :', *numerical_features, len(numerical_features))"
   ]
  },
  {
   "cell_type": "code",
   "execution_count": null,
   "metadata": {},
   "outputs": [],
   "source": [
    "# features = numerical_features.copy()\n",
    "# features.append('attack')\n",
    "# features"
   ]
  },
  {
   "cell_type": "markdown",
   "metadata": {},
   "source": [
    "### Univariate Analysis"
   ]
  },
  {
   "cell_type": "code",
   "execution_count": null,
   "metadata": {},
   "outputs": [],
   "source": [
    "# # %matplotlib inline\n",
    "# heart_copy.hist(bins=15, figsize=(16,10)) #figsize = (width, height)\n",
    "# plt.show()"
   ]
  },
  {
   "cell_type": "markdown",
   "metadata": {},
   "source": [
    "#### Univariate analysis on categorical columns"
   ]
  },
  {
   "cell_type": "code",
   "execution_count": null,
   "metadata": {},
   "outputs": [],
   "source": [
    "plt.figure(figsize=(10,8))\n",
    "for i, col in enumerate(categorical_features, 1):\n",
    "    plt.subplot(3,3,i)\n",
    "    plt.title(f\"Distribution of {col} Data\")\n",
    "    sns.histplot(heart_copy[col])\n",
    "    plt.tight_layout()\n",
    "    plt.plot()"
   ]
  },
  {
   "cell_type": "code",
   "execution_count": null,
   "metadata": {},
   "outputs": [],
   "source": [
    "heart_copy[categorical_features].skew().sort_values(ascending=False)"
   ]
  },
  {
   "cell_type": "markdown",
   "metadata": {},
   "source": [
    "**Observations:**  \n",
    "- The frequency of feature values is not uniform. This maybe because some types appear more frequently than others or it maybe attributed to poor data collection techniques.\n",
    "- Distributions are not normally distributed (i.e. Gaussian). This will limit model performance for models which assume data to be normally distributed.\n",
    "<!-- Standardization using `StandardScaler` shouldn't be used to scale the data.  Normalization should be performed so something like `MinMaxScaler` can be used instead. -->\n",
    "<!-- - Scales for the features are different, will require feature scaling.  -->\n",
    "<!-- - Several numeric features are actually categorical. -->\n",
    "<!-- - **Categorical Features:** `sex`, `cp`, `fbs`, `recg`, `angina`, `stslope`, `vessel`, `thal`, and `attack`.   -->\n",
    "<!-- - **Continuous Features:** `age`, `bp`, `chol`, `maxhr`, `oldpeak`. -->"
   ]
  },
  {
   "cell_type": "markdown",
   "metadata": {},
   "source": [
    "#### Univariate analysis on numerical columns"
   ]
  },
  {
   "cell_type": "code",
   "execution_count": null,
   "metadata": {},
   "outputs": [],
   "source": [
    "plt.figure(figsize=(10,8))\n",
    "for i, col in enumerate(numerical_features, 1):\n",
    "    plt.subplot(3,3,i)\n",
    "    plt.title(f\"Distribution of {col} Data\")\n",
    "    # sns.kdeplot(heart_copy[col], linewidth=1)\n",
    "    sns.histplot(heart_copy[col], kde=True, line_kws={'lw':1.5}, stat='density')\n",
    "    # sns.histplot(heart_copy[col], kde=True, line_kws={'lw':1.5}, stat='density', kde_kws=dict(cut=3))\n",
    "    # sns.distplot(heart_copy[col], kde_kws={'bw':1})\n",
    "    plt.tight_layout()\n",
    "    plt.plot()"
   ]
  },
  {
   "cell_type": "code",
   "execution_count": null,
   "metadata": {},
   "outputs": [],
   "source": [
    "heart_copy[numerical_features].skew().sort_values(ascending=False)"
   ]
  },
  {
   "cell_type": "markdown",
   "metadata": {},
   "source": [
    "**Observations:**  \n",
    "- Scales for the features are different, will require feature scaling. \n",
    "- Standardization using `StandardScaler` shouldn't be used to scale the data.  Normalization should be performed so something like `MinMaxScaler` can be used instead.\n",
    "- Distributions are not normally distributed (i.e. Gaussian). This will limit model performance for models which assume data to be normally distributed."
   ]
  },
  {
   "cell_type": "markdown",
   "metadata": {},
   "source": [
    "#### Univariate analysis on target column"
   ]
  },
  {
   "cell_type": "code",
   "execution_count": null,
   "metadata": {},
   "outputs": [],
   "source": [
    "# check_balance(heart_copy, 'attack', 1, 0)"
   ]
  },
  {
   "cell_type": "code",
   "execution_count": null,
   "metadata": {},
   "outputs": [],
   "source": [
    "l = list(heart_copy['attack'].value_counts())\n",
    "circle = [l[1] / sum(l) * 100,l[0] / sum(l) * 100]\n",
    "\n",
    "fig, ax = plt.subplots(nrows = 1,ncols = 2,figsize = (14,5))\n",
    "plt.subplot(1,2,1)\n",
    "sns.histplot(heart_copy['attack'])\n",
    "plt.title('Cases of Heart Disease');\n",
    "\n",
    "plt.subplot(1,2,2)\n",
    "plt.pie(circle, labels = ['No Heart Disease','Heart Disease'],autopct='%1.1f%%',startangle = 90,explode = (0.1,0))\n",
    "plt.title('Heart Disease %');\n",
    "plt.show()"
   ]
  },
  {
   "cell_type": "markdown",
   "metadata": {},
   "source": [
    "**Observations:**\n",
    "- The frequency of the target values are not very different.  This is a very balanced dataset."
   ]
  },
  {
   "cell_type": "markdown",
   "metadata": {},
   "source": [
    "### Bivariate Analysis"
   ]
  },
  {
   "cell_type": "markdown",
   "metadata": {},
   "source": [
    "#### Target variable vs Categorical features"
   ]
  },
  {
   "cell_type": "code",
   "execution_count": null,
   "metadata": {},
   "outputs": [],
   "source": [
    "fig, ax = plt.subplots(nrows = 3,ncols = 3,figsize = (16,18))\n",
    "# fig, ax = plt.subplots(nrows = 4,ncols = 2,figsize = (10, 20))\n",
    "for i in range(len(categorical_features)):\n",
    "    plt.subplot(3,3,i+1)\n",
    "    # plt.subplot(4,2,i+1)\n",
    "    ax = sns.countplot(data = heart_copy, x = categorical_features[i], hue = \"attack\", edgecolor = 'black')\n",
    "    for rect in ax.patches:\n",
    "        ax.text(rect.get_x() + rect.get_width() / 2, rect.get_height() + 2, rect.get_height(), horizontalalignment='center', fontsize = 11)\n",
    "    title = categorical_features[i] + ' vs attack'\n",
    "    plt.legend(['No Heart Disease','Heart Disease'])\n",
    "    plt.title(title);"
   ]
  },
  {
   "cell_type": "markdown",
   "metadata": {},
   "source": [
    "**Observations**\n",
    "- Number of **Males** with heart attack are greater than number of males without heart attack.\n",
    "- Number of **Females** with heart attack are lesser than number of females without heart attack.\n",
    "- Presence of **asymptomatic** type of **chest pain** results shows a greater risk of heart attack.\n",
    "- **Fasting Blood Sugar** level shows no direct relation with heart attack.\n",
    "- Normal **Resting ECG** indicates a little lower risk of heart attack.\n",
    "- Patients with **Exercise induced Engina** have a higher risk of heart diseases.\n",
    "- Patients with **flat** ST slope have a very high probability of having heart attack.\n",
    "- Patients with a non-zero **number of major vessels colored by flourosopy** have a greater risk of heart attack.\n",
    "- Patients with **reversible thalassemia** are at a high risk."
   ]
  },
  {
   "cell_type": "markdown",
   "metadata": {},
   "source": [
    "#### Target variable vs Numerical features"
   ]
  },
  {
   "cell_type": "code",
   "execution_count": null,
   "metadata": {},
   "outputs": [],
   "source": [
    "sns.pairplot(heart_copy, hue='attack')\n",
    "plt.legend('attack')\n",
    "plt.show()"
   ]
  },
  {
   "cell_type": "markdown",
   "metadata": {},
   "source": [
    "We divide the numerical data into groups and then plot these groups."
   ]
  },
  {
   "cell_type": "code",
   "execution_count": null,
   "metadata": {},
   "outputs": [],
   "source": [
    "scaling_factors = {\n",
    "    'age': 5,\n",
    "    'bp': 10,\n",
    "    'chol': 50,\n",
    "    'maxhr': 20,\n",
    "    'oldpeak': 0.5 # creates a problem\n",
    "}\n",
    "# scale['age']"
   ]
  },
  {
   "cell_type": "code",
   "execution_count": null,
   "metadata": {},
   "outputs": [],
   "source": [
    "# heart_copy = heart.copy()\n",
    "# heart_copy['attack'] = heart_copy['attack'].apply(lambda x: 'Attack' if x == 1 else 'No attack')\n",
    "# # heart_copy\n",
    "\n",
    "for i in numerical_features:\n",
    "    heart_copy[f\"{i}_grp\"] = [int(j/scaling_factors[i]) for j in heart_copy[i]]"
   ]
  },
  {
   "cell_type": "code",
   "execution_count": null,
   "metadata": {},
   "outputs": [],
   "source": [
    "fig, ax = plt.subplots(nrows = 5,ncols = 1,figsize = (12,28))\n",
    "\n",
    "for idx, grp in enumerate(numerical_features):\n",
    "    # if idx+1 == len(numerical_features):\n",
    "    #     break\n",
    "    \n",
    "    grp_name = f\"{grp}_grp\"\n",
    "    plt.subplot(5,1,idx+1)\n",
    "    ax = sns.countplot(data = heart_copy, x = grp_name, hue = \"attack\", edgecolor = 'black')\n",
    "    for rect in ax.patches:\n",
    "        ax.text(rect.get_x() + rect.get_width() / 2, rect.get_height() + 1, rect.get_height(), horizontalalignment='center', fontsize = 11)\n",
    "\n",
    "    ax.set_xticks(range(heart_copy[grp_name].nunique()))\n",
    "    mn = heart_copy[grp_name].min()\n",
    "    l = heart_copy[grp_name].nunique()\n",
    "    scale = scaling_factors[grp]\n",
    "    # ax.set_xticklabels([f\"{i}-{i+scale-1}\" for i in range(scale*mn,  scale*(mn + l), scale)])\n",
    "    ax.set_xticklabels([f\"{i}-{i+scale-(1 if scale > 1 else 0.1)}\" for i in np.arange(scale*mn,  scale*(mn + l), scale)])\n",
    "    plt.legend(['No Heart Disease','Heart Disease'])\n",
    "    plt.title(f\"{grp_name} vs attack\");"
   ]
  },
  {
   "cell_type": "markdown",
   "metadata": {},
   "source": [
    "**Observations:**\n",
    "- Patients with **age** > 55 have a very high risk of heart attack.\n",
    "- Resting **blood pressure** of 110 and above shows a little risk of heart attack, wherease BP > 160 have a very high risk of heart attack.\n",
    "- **Cholestrol level** > 250 poses a high risk.\n",
    "- **Maximum heart rate** achieved between 80 - 140 poses a very high risk.\n",
    "- Patients with **old peak** > 1 also have a high probability of having a heart attack."
   ]
  },
  {
   "cell_type": "markdown",
   "metadata": {},
   "source": [
    "### Multivariate Analysis"
   ]
  },
  {
   "cell_type": "markdown",
   "metadata": {},
   "source": [
    "#### Target variable and Categorical features vs Numerical features"
   ]
  },
  {
   "cell_type": "markdown",
   "metadata": {},
   "source": [
    "##### Sex vs Numerical Features"
   ]
  },
  {
   "cell_type": "code",
   "execution_count": null,
   "metadata": {},
   "outputs": [],
   "source": [
    "fig, ax = plt.subplots(nrows = 2,ncols = 3,figsize = (15,10))\n",
    "for i in range(5):\n",
    "    plt.subplot(2,3,i+1)\n",
    "    sns.stripplot(x = 'sex',y = numerical_features[i],data = heart_copy,hue = 'attack')\n",
    "    # plt.legend(['No Heart attack', 'Heart attack']) # why this does not work?\n",
    "    plt.title(f\"{numerical_features[i]} vs sex\")"
   ]
  },
  {
   "cell_type": "markdown",
   "metadata": {},
   "source": [
    "**Observations:**\n",
    "- **Males** have very significant heart attack risk for age > 50 and maximum heart rate < 140. For blood pressure, cholesterol and oldpeak, heart attack occurrence do not show any particular range.\n",
    "- Since **female** population data points are very less as compared to male population data points, we cannot point to specific ranges or values that display cases of heart attack."
   ]
  },
  {
   "cell_type": "markdown",
   "metadata": {},
   "source": [
    "##### Chest pain type vs Numerical Features"
   ]
  },
  {
   "cell_type": "code",
   "execution_count": null,
   "metadata": {},
   "outputs": [],
   "source": [
    "fig, ax = plt.subplots(nrows = 2,ncols = 3,figsize = (15,10))\n",
    "for i in range(5):\n",
    "    plt.subplot(2,3,i+1)\n",
    "    sns.stripplot(x = 'cp',y = numerical_features[i], data = heart_copy,hue = 'attack')\n",
    "    # plt.legend(['No Heart attack', 'Heart attack']) # why this does not work?\n",
    "    plt.title(f\"{numerical_features[i]} vs sex\")"
   ]
  },
  {
   "cell_type": "markdown",
   "metadata": {},
   "source": [
    "**Observations:**\n",
    "- **Asymptomatic** chest pain shows a very high heart attack risk. Other chest pain types do not show significant risk."
   ]
  },
  {
   "cell_type": "markdown",
   "metadata": {},
   "source": [
    "##### Fasting Blood Sugar vs Numerical features"
   ]
  },
  {
   "cell_type": "code",
   "execution_count": null,
   "metadata": {},
   "outputs": [],
   "source": [
    "fig, ax = plt.subplots(nrows = 2,ncols = 3,figsize = (15,10))\n",
    "for i in range(5):\n",
    "    plt.subplot(2,3,i+1)\n",
    "    sns.stripplot(x = 'fbs',y = numerical_features[i], data = heart_copy,hue = 'attack')\n",
    "    # plt.legend(['No Heart attack', 'Heart attack']) # why this does not work?\n",
    "    plt.title(f\"{numerical_features[i]} vs sex\")"
   ]
  },
  {
   "cell_type": "markdown",
   "metadata": {},
   "source": [
    "**Observations:**\n",
    "- Above the **age** of 50, heart attack can occur irrespective of the fasting Blood Sugar level.\n",
    "- Fasting Blood Sugar < 120 and **Resting BP > 130** can cause significant risk.\n",
    "- **Cholesterol** can cause heart attack irrespective of the fasting blood sugar level.\n",
    "- Patients with fasting blood sugar < 120 and **maximum heart rate below 140** are more prone to heart attack.\n",
    "- Any **Oldpeak** value seems to cause heart attack irrespective of the fasting blood sugar level."
   ]
  },
  {
   "cell_type": "markdown",
   "metadata": {},
   "source": [
    "##### Resting ECG vs Numerical Features :"
   ]
  },
  {
   "cell_type": "code",
   "execution_count": null,
   "metadata": {},
   "outputs": [],
   "source": [
    "fig, ax = plt.subplots(nrows = 2,ncols = 3,figsize = (15,10))\n",
    "for i in range(5):\n",
    "    plt.subplot(2,3,i+1)\n",
    "    sns.stripplot(x = 'ecg',y = numerical_features[i], data = heart_copy,hue = 'attack')\n",
    "    # plt.legend(['No Heart attack', 'Heart attack']) # why this does not work?\n",
    "    plt.title(f\"{numerical_features[i]} vs sex\")"
   ]
  },
  {
   "cell_type": "markdown",
   "metadata": {},
   "source": [
    "**Observations:**\n"
   ]
  },
  {
   "cell_type": "markdown",
   "metadata": {},
   "source": [
    "##### Exercise Angina vs Numerical Features :"
   ]
  },
  {
   "cell_type": "code",
   "execution_count": null,
   "metadata": {},
   "outputs": [],
   "source": [
    "fig, ax = plt.subplots(nrows = 2,ncols = 3,figsize = (15,10))\n",
    "for i in range(5):\n",
    "    plt.subplot(2,3,i+1)\n",
    "    sns.stripplot(x = 'angina',y = numerical_features[i], data = heart_copy,hue = 'attack')\n",
    "    # plt.legend(['No Heart attack', 'Heart attack']) # why this does not work?\n",
    "    plt.title(f\"{numerical_features[i]} vs sex\")"
   ]
  },
  {
   "cell_type": "markdown",
   "metadata": {},
   "source": [
    "**Observations:**\n"
   ]
  },
  {
   "cell_type": "markdown",
   "metadata": {},
   "source": [
    "##### ST_Slope vs Numerical Features :"
   ]
  },
  {
   "cell_type": "code",
   "execution_count": null,
   "metadata": {},
   "outputs": [],
   "source": [
    "fig, ax = plt.subplots(nrows = 2,ncols = 3,figsize = (15,10))\n",
    "for i in range(5):\n",
    "    plt.subplot(2,3,i+1)\n",
    "    sns.stripplot(x = 'stslope',y = numerical_features[i], data = heart_copy,hue = 'attack')\n",
    "    # plt.legend(['No Heart attack', 'Heart attack']) # why this does not work?\n",
    "    plt.title(f\"{numerical_features[i]} vs sex\")"
   ]
  },
  {
   "cell_type": "markdown",
   "metadata": {},
   "source": [
    "**Observations:**\n"
   ]
  },
  {
   "cell_type": "markdown",
   "metadata": {},
   "source": [
    "#### Target variable and Numerical features vs Numerical features"
   ]
  },
  {
   "cell_type": "code",
   "execution_count": null,
   "metadata": {},
   "outputs": [],
   "source": [
    "a = 0\n",
    "fig,ax = plt.subplots(nrows = 5,ncols = 2,figsize = (15,25))\n",
    "for i in range(len(numerical_features)):\n",
    "    for j in range(len(numerical_features)):\n",
    "        if i != j and j > i:\n",
    "            a += 1\n",
    "            plt.subplot(5,2,a)\n",
    "            sns.scatterplot(x = numerical_features[i],y = numerical_features[j],data = heart_copy,hue = 'attack', edgecolor = 'black');\n",
    "            # plt.legend(['No Heart attack', 'Heart attack']) # why does this not work?\n",
    "            plt.title(f\"{numerical_features[i]} vs {numerical_features[j]}\")"
   ]
  },
  {
   "cell_type": "markdown",
   "metadata": {},
   "source": [
    "**Observations:**\n"
   ]
  },
  {
   "cell_type": "markdown",
   "metadata": {},
   "source": [
    "## Feature Engineering"
   ]
  },
  {
   "cell_type": "markdown",
   "metadata": {},
   "source": [
    "### Collinearity Analysis"
   ]
  },
  {
   "cell_type": "markdown",
   "metadata": {},
   "source": [
    "cp, ecg, thal"
   ]
  },
  {
   "cell_type": "code",
   "execution_count": null,
   "metadata": {},
   "outputs": [],
   "source": [
    "heart.describe()"
   ]
  },
  {
   "cell_type": "code",
   "execution_count": null,
   "metadata": {},
   "outputs": [],
   "source": [
    "cols = numerical_features.copy()\n",
    "cols.append('attack');"
   ]
  },
  {
   "cell_type": "code",
   "execution_count": null,
   "metadata": {},
   "outputs": [],
   "source": [
    "sns.pairplot(heart[cols], hue='attack')"
   ]
  },
  {
   "cell_type": "code",
   "execution_count": null,
   "metadata": {},
   "outputs": [],
   "source": [
    "corr_matrix = heart[cols].corr()\n",
    "corr_matrix"
   ]
  },
  {
   "cell_type": "code",
   "execution_count": null,
   "metadata": {},
   "outputs": [],
   "source": [
    "sns.heatmap(round(corr_matrix, 2), annot=True)"
   ]
  },
  {
   "cell_type": "markdown",
   "metadata": {},
   "source": [
    "**Observations:**\n",
    "- There is very little to no correlation between variables.\n",
    "- Highest correlation between features is `-0.39` for `age` and `maxhr`.\n",
    "- Highest correlation between `attack` and feature is for `oldpeak` (`0.42`) and `maxhr` (`-0.42`).\n",
    "- We can check if removing `oldpeak` can give any performance boost."
   ]
  },
  {
   "cell_type": "markdown",
   "metadata": {},
   "source": [
    "## Train ML algorithms"
   ]
  },
  {
   "cell_type": "markdown",
   "metadata": {},
   "source": [
    "### Split data into train and test"
   ]
  },
  {
   "cell_type": "markdown",
   "metadata": {},
   "source": [
    "### Utility function for Prediction"
   ]
  },
  {
   "cell_type": "markdown",
   "metadata": {},
   "source": [
    "### K Nearest Neighbours Classifier"
   ]
  },
  {
   "cell_type": "markdown",
   "metadata": {},
   "source": [
    "### Logistic Regression"
   ]
  }
 ],
 "metadata": {
  "kernelspec": {
   "display_name": "test",
   "language": "python",
   "name": "python3"
  },
  "language_info": {
   "codemirror_mode": {
    "name": "ipython",
    "version": 3
   },
   "file_extension": ".py",
   "mimetype": "text/x-python",
   "name": "python",
   "nbconvert_exporter": "python",
   "pygments_lexer": "ipython3",
   "version": "3.10.13"
  }
 },
 "nbformat": 4,
 "nbformat_minor": 2
}
