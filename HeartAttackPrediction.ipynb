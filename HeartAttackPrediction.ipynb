{
 "cells": [
  {
   "cell_type": "markdown",
   "metadata": {},
   "source": [
    "# Heart Attack Prediction"
   ]
  },
  {
   "cell_type": "markdown",
   "metadata": {},
   "source": [
    "This Jupyter Notebook is created for the **Biotech Final Year Project** of **MNNIT Allahabad, Dept of Biotechnology**.   \n",
    "The notebook contains code to predict risk of heart attack using various Machine Learning techniques based on health and heart-based parameters.\n",
    "\n",
    "This notebook and all other relevant files are available on [Github](https://github.com/agg-geek/HeartAttackPrediction).\n",
    "\n"
   ]
  }
 ],
 "metadata": {
  "language_info": {
   "name": "python"
  }
 },
 "nbformat": 4,
 "nbformat_minor": 2
}
